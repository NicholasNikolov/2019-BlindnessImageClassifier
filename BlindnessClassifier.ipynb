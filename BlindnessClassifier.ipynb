{
 "cells": [
  {
   "cell_type": "code",
   "execution_count": 13,
   "metadata": {},
   "outputs": [],
   "source": [
    "import pandas as pd\n",
    "import numpy as np\n",
    "import os\n",
    "import random\n",
    "from keras.preprocessing.image import ImageDataGenerator\n",
    "from keras.preprocessing import image\n",
    "from keras import layers\n",
    "from keras import models\n",
    "from keras import optimizers\n",
    "import tensorflow as tf"
   ]
  },
  {
   "cell_type": "code",
   "execution_count": 123,
   "metadata": {},
   "outputs": [
    {
     "name": "stdout",
     "output_type": "stream",
     "text": [
      "[name: \"/device:CPU:0\"\n",
      "device_type: \"CPU\"\n",
      "memory_limit: 268435456\n",
      "locality {\n",
      "}\n",
      "incarnation: 12984232663217635098\n",
      ", name: \"/device:GPU:0\"\n",
      "device_type: \"GPU\"\n",
      "memory_limit: 2209624883\n",
      "locality {\n",
      "  bus_id: 1\n",
      "  links {\n",
      "  }\n",
      "}\n",
      "incarnation: 12716201056627842778\n",
      "physical_device_desc: \"device: 0, name: GeForce GTX 1060, pci bus id: 0000:01:00.0, compute capability: 6.1\"\n",
      "]\n"
     ]
    },
    {
     "data": {
      "text/plain": [
       "True"
      ]
     },
     "execution_count": 123,
     "metadata": {},
     "output_type": "execute_result"
    }
   ],
   "source": [
    "from tensorflow.python.client import device_lib\n",
    "print(device_lib.list_local_devices())\n",
    "tf.test.is_gpu_available()"
   ]
  },
  {
   "cell_type": "code",
   "execution_count": 124,
   "metadata": {},
   "outputs": [
    {
     "name": "stdout",
     "output_type": "stream",
     "text": [
      "000c1434d8d7\n",
      "2\n"
     ]
    }
   ],
   "source": [
    "data = pd.read_csv(\"D:\\\\School\\\\Summer_2019\\\\Kaggle_BlindnessCompetition\\\\aptos2019-blindness-detection\\\\train.csv\")\n",
    "print(data.iloc[0][0])\n",
    "print(data.iloc[0][1])"
   ]
  },
  {
   "cell_type": "markdown",
   "metadata": {},
   "source": [
    "# Place Images Into Respective Class Folders"
   ]
  },
  {
   "cell_type": "code",
   "execution_count": 4,
   "metadata": {},
   "outputs": [
    {
     "ename": "FileNotFoundError",
     "evalue": "[WinError 2] The system cannot find the file specified: 'D:\\\\School\\\\Summer_2019\\\\Kaggle_BlindnessCompetition\\\\aptos2019-blindness-detection\\\\train_images\\\\000c1434d8d7.png' -> 'D:\\\\School\\\\Summer_2019\\\\Kaggle_BlindnessCompetition\\\\aptos2019-blindness-detection\\\\train_images\\\\2\\\\000c1434d8d7.png'",
     "output_type": "error",
     "traceback": [
      "\u001b[1;31m---------------------------------------------------------------------------\u001b[0m",
      "\u001b[1;31mFileNotFoundError\u001b[0m                         Traceback (most recent call last)",
      "\u001b[1;32m<ipython-input-4-1cbba098eef1>\u001b[0m in \u001b[0;36m<module>\u001b[1;34m\u001b[0m\n\u001b[0;32m     14\u001b[0m     \u001b[0mdestination\u001b[0m \u001b[1;33m=\u001b[0m \u001b[1;34m'D:\\\\School\\\\Summer_2019\\\\Kaggle_BlindnessCompetition\\\\aptos2019-blindness-detection\\\\train_images\\\\'\u001b[0m \u001b[1;33m+\u001b[0m \u001b[0mstr\u001b[0m\u001b[1;33m(\u001b[0m\u001b[0mdiagnosis\u001b[0m\u001b[1;33m)\u001b[0m \u001b[1;33m+\u001b[0m \u001b[1;34m'\\\\'\u001b[0m \u001b[1;33m+\u001b[0m \u001b[0mimgName\u001b[0m \u001b[1;33m+\u001b[0m \u001b[1;34m'.png'\u001b[0m\u001b[1;33m\u001b[0m\u001b[1;33m\u001b[0m\u001b[0m\n\u001b[0;32m     15\u001b[0m \u001b[1;33m\u001b[0m\u001b[0m\n\u001b[1;32m---> 16\u001b[1;33m     \u001b[0mos\u001b[0m\u001b[1;33m.\u001b[0m\u001b[0mrename\u001b[0m\u001b[1;33m(\u001b[0m\u001b[0msource\u001b[0m\u001b[1;33m,\u001b[0m\u001b[0mdestination\u001b[0m\u001b[1;33m)\u001b[0m\u001b[1;33m\u001b[0m\u001b[1;33m\u001b[0m\u001b[0m\n\u001b[0m",
      "\u001b[1;31mFileNotFoundError\u001b[0m: [WinError 2] The system cannot find the file specified: 'D:\\\\School\\\\Summer_2019\\\\Kaggle_BlindnessCompetition\\\\aptos2019-blindness-detection\\\\train_images\\\\000c1434d8d7.png' -> 'D:\\\\School\\\\Summer_2019\\\\Kaggle_BlindnessCompetition\\\\aptos2019-blindness-detection\\\\train_images\\\\2\\\\000c1434d8d7.png'"
     ]
    }
   ],
   "source": [
    "images = os.listdir(\"D:\\\\School\\\\Summer_2019\\\\Kaggle_BlindnessCompetition\\\\aptos2019-blindness-detection\\\\train_images\")\n",
    "\n",
    "# Eliminate the .png extension\n",
    "for i in range(len(images)):\n",
    "    images[i] = images[i][:-4]\n",
    "    \n",
    "    \n",
    "\n",
    "for i in range(len(images)):\n",
    "    imgName = data.iloc[i][0]\n",
    "    diagnosis = data.iloc[i][1]\n",
    "    \n",
    "    source = 'D:\\\\School\\\\Summer_2019\\\\Kaggle_BlindnessCompetition\\\\aptos2019-blindness-detection\\\\train_images\\\\' + imgName + '.png'\n",
    "    destination = 'D:\\\\School\\\\Summer_2019\\\\Kaggle_BlindnessCompetition\\\\aptos2019-blindness-detection\\\\train_images\\\\' + str(diagnosis) + '\\\\' + imgName + '.png'\n",
    "    \n",
    "    os.rename(source,destination)"
   ]
  },
  {
   "cell_type": "markdown",
   "metadata": {},
   "source": [
    "# Train/Val Split"
   ]
  },
  {
   "cell_type": "code",
   "execution_count": 5,
   "metadata": {},
   "outputs": [
    {
     "name": "stdout",
     "output_type": "stream",
     "text": [
      "Found 2749 images belonging to 5 classes.\n",
      "Found 913 images belonging to 5 classes.\n"
     ]
    }
   ],
   "source": [
    "batch_size = 32\n",
    "targetImageSize = 150\n",
    "\n",
    "imageGen = ImageDataGenerator(rescale = 1./255,\n",
    "                              validation_split = .25)\n",
    "trainGen = imageGen.flow_from_directory(directory = \"D:\\\\School\\\\Summer_2019\\\\Kaggle_BlindnessCompetition\\\\aptos2019-blindness-detection\\\\train_images\",\n",
    "                                       class_mode = \"categorical\",\n",
    "                                       batch_size = batch_size,\n",
    "                                       subset = \"training\",\n",
    "                                       target_size = (targetImageSize,targetImageSize))\n",
    "\n",
    "valGen = imageGen.flow_from_directory(directory = \"D:\\\\School\\\\Summer_2019\\\\Kaggle_BlindnessCompetition\\\\aptos2019-blindness-detection\\\\train_images\",\n",
    "                                       class_mode = \"categorical\",\n",
    "                                       batch_size = batch_size,\n",
    "                                       subset = \"validation\",\n",
    "                                       target_size = (targetImageSize,targetImageSize))"
   ]
  },
  {
   "cell_type": "code",
   "execution_count": 6,
   "metadata": {},
   "outputs": [
    {
     "name": "stderr",
     "output_type": "stream",
     "text": [
      "WARNING: Logging before flag parsing goes to stderr.\n",
      "W0701 12:05:09.799506  4820 deprecation_wrapper.py:119] From c:\\users\\asus\\appdata\\local\\programs\\python\\python36\\lib\\site-packages\\keras\\backend\\tensorflow_backend.py:74: The name tf.get_default_graph is deprecated. Please use tf.compat.v1.get_default_graph instead.\n",
      "\n",
      "W0701 12:05:09.814491  4820 deprecation_wrapper.py:119] From c:\\users\\asus\\appdata\\local\\programs\\python\\python36\\lib\\site-packages\\keras\\backend\\tensorflow_backend.py:517: The name tf.placeholder is deprecated. Please use tf.compat.v1.placeholder instead.\n",
      "\n",
      "W0701 12:05:09.817470  4820 deprecation_wrapper.py:119] From c:\\users\\asus\\appdata\\local\\programs\\python\\python36\\lib\\site-packages\\keras\\backend\\tensorflow_backend.py:4138: The name tf.random_uniform is deprecated. Please use tf.random.uniform instead.\n",
      "\n",
      "W0701 12:05:09.833415  4820 deprecation_wrapper.py:119] From c:\\users\\asus\\appdata\\local\\programs\\python\\python36\\lib\\site-packages\\keras\\backend\\tensorflow_backend.py:3976: The name tf.nn.max_pool is deprecated. Please use tf.nn.max_pool2d instead.\n",
      "\n"
     ]
    },
    {
     "name": "stdout",
     "output_type": "stream",
     "text": [
      "_________________________________________________________________\n",
      "Layer (type)                 Output Shape              Param #   \n",
      "=================================================================\n",
      "conv2d_1 (Conv2D)            (None, 148, 148, 32)      896       \n",
      "_________________________________________________________________\n",
      "max_pooling2d_1 (MaxPooling2 (None, 49, 49, 32)        0         \n",
      "_________________________________________________________________\n",
      "conv2d_2 (Conv2D)            (None, 47, 47, 64)        18496     \n",
      "_________________________________________________________________\n",
      "max_pooling2d_2 (MaxPooling2 (None, 15, 15, 64)        0         \n",
      "_________________________________________________________________\n",
      "conv2d_3 (Conv2D)            (None, 13, 13, 128)       73856     \n",
      "_________________________________________________________________\n",
      "max_pooling2d_3 (MaxPooling2 (None, 4, 4, 128)         0         \n",
      "_________________________________________________________________\n",
      "flatten_1 (Flatten)          (None, 2048)              0         \n",
      "_________________________________________________________________\n",
      "dense_1 (Dense)              (None, 256)               524544    \n",
      "_________________________________________________________________\n",
      "dense_2 (Dense)              (None, 5)                 1285      \n",
      "=================================================================\n",
      "Total params: 619,077\n",
      "Trainable params: 619,077\n",
      "Non-trainable params: 0\n",
      "_________________________________________________________________\n"
     ]
    }
   ],
   "source": [
    "model = models.Sequential()\n",
    "\n",
    "model.add(layers.Conv2D(32,(3,3) , activation = 'relu',\n",
    "                       input_shape = (targetImageSize,targetImageSize,3)))\n",
    "model.add(layers.MaxPooling2D((3,3)))\n",
    "model.add(layers.Conv2D(64 , (3,3) , activation = 'relu'))\n",
    "model.add(layers.MaxPooling2D((3,3)))\n",
    "model.add(layers.Conv2D(128 , (3,3) , activation = 'relu'))\n",
    "model.add(layers.MaxPooling2D((3,3)))\n",
    "model.add(layers.Flatten())\n",
    "model.add(layers.Dense(256,activation = 'relu'))\n",
    "model.add(layers.Dense(5 , activation = 'softmax'))\n",
    "\n",
    "model.summary()"
   ]
  },
  {
   "cell_type": "code",
   "execution_count": 7,
   "metadata": {},
   "outputs": [
    {
     "name": "stderr",
     "output_type": "stream",
     "text": [
      "W0701 12:05:38.242791  4820 deprecation_wrapper.py:119] From c:\\users\\asus\\appdata\\local\\programs\\python\\python36\\lib\\site-packages\\keras\\optimizers.py:790: The name tf.train.Optimizer is deprecated. Please use tf.compat.v1.train.Optimizer instead.\n",
      "\n",
      "W0701 12:05:38.250769  4820 deprecation_wrapper.py:119] From c:\\users\\asus\\appdata\\local\\programs\\python\\python36\\lib\\site-packages\\keras\\backend\\tensorflow_backend.py:3295: The name tf.log is deprecated. Please use tf.math.log instead.\n",
      "\n"
     ]
    }
   ],
   "source": [
    "model.compile(loss = 'categorical_crossentropy',\n",
    "             optimizer = optimizers.RMSprop(lr=1e-4),\n",
    "             metrics = ['acc'])"
   ]
  },
  {
   "cell_type": "code",
   "execution_count": 10,
   "metadata": {},
   "outputs": [
    {
     "name": "stdout",
     "output_type": "stream",
     "text": [
      "Epoch 1/20\n",
      "85/85 [==============================] - 288s 3s/step - loss: 0.7465 - acc: 0.7316 - val_loss: 0.7472 - val_acc: 0.7196\n",
      "Epoch 2/20\n",
      "85/85 [==============================] - 252s 3s/step - loss: 0.7580 - acc: 0.7208 - val_loss: 0.7764 - val_acc: 0.7128\n",
      "Epoch 3/20\n",
      "85/85 [==============================] - 264s 3s/step - loss: 0.7296 - acc: 0.7312 - val_loss: 0.7322 - val_acc: 0.7412\n",
      "Epoch 4/20\n",
      "85/85 [==============================] - 280s 3s/step - loss: 0.7384 - acc: 0.7307 - val_loss: 0.7642 - val_acc: 0.7219\n",
      "Epoch 5/20\n",
      "85/85 [==============================] - 258s 3s/step - loss: 0.7243 - acc: 0.7299 - val_loss: 0.7267 - val_acc: 0.7401\n",
      "Epoch 6/20\n",
      "85/85 [==============================] - 271s 3s/step - loss: 0.6901 - acc: 0.7508 - val_loss: 0.7327 - val_acc: 0.7333\n",
      "Epoch 7/20\n",
      "85/85 [==============================] - 259s 3s/step - loss: 0.6988 - acc: 0.7422 - val_loss: 0.7174 - val_acc: 0.7378\n",
      "Epoch 8/20\n",
      "85/85 [==============================] - 261s 3s/step - loss: 0.6845 - acc: 0.7487 - val_loss: 0.7110 - val_acc: 0.7422\n",
      "Epoch 9/20\n",
      "85/85 [==============================] - 263s 3s/step - loss: 0.6911 - acc: 0.7468 - val_loss: 0.7131 - val_acc: 0.7446\n",
      "Epoch 10/20\n",
      "85/85 [==============================] - 258s 3s/step - loss: 0.6800 - acc: 0.7479 - val_loss: 0.7056 - val_acc: 0.7401\n",
      "Epoch 11/20\n",
      "85/85 [==============================] - 264s 3s/step - loss: 0.6682 - acc: 0.7541 - val_loss: 0.7591 - val_acc: 0.7242\n",
      "Epoch 12/20\n",
      "85/85 [==============================] - 262s 3s/step - loss: 0.6719 - acc: 0.7530 - val_loss: 0.7019 - val_acc: 0.7548\n",
      "Epoch 13/20\n",
      "85/85 [==============================] - 262s 3s/step - loss: 0.6511 - acc: 0.7583 - val_loss: 0.6900 - val_acc: 0.7560\n",
      "Epoch 14/20\n",
      "85/85 [==============================] - 263s 3s/step - loss: 0.6675 - acc: 0.7538 - val_loss: 0.6830 - val_acc: 0.7480\n",
      "Epoch 15/20\n",
      "85/85 [==============================] - 260s 3s/step - loss: 0.6377 - acc: 0.7663 - val_loss: 0.6753 - val_acc: 0.7537\n",
      "Epoch 16/20\n",
      "85/85 [==============================] - 262s 3s/step - loss: 0.6429 - acc: 0.7623 - val_loss: 0.6960 - val_acc: 0.7242\n",
      "Epoch 17/20\n",
      "85/85 [==============================] - 265s 3s/step - loss: 0.6464 - acc: 0.7609 - val_loss: 0.7056 - val_acc: 0.7446\n",
      "Epoch 18/20\n",
      "85/85 [==============================] - 256s 3s/step - loss: 0.6284 - acc: 0.7718 - val_loss: 0.6642 - val_acc: 0.7435\n",
      "Epoch 19/20\n",
      "85/85 [==============================] - 259s 3s/step - loss: 0.6312 - acc: 0.7682 - val_loss: 0.6987 - val_acc: 0.7389\n",
      "Epoch 20/20\n",
      "85/85 [==============================] - 257s 3s/step - loss: 0.6243 - acc: 0.7695 - val_loss: 0.7341 - val_acc: 0.7253\n"
     ]
    }
   ],
   "source": [
    "sess = tf.Session(config=tf.ConfigProto(log_device_placement=True))\n",
    "history = model.fit_generator(trainGen,\n",
    "                             steps_per_epoch = 85,\n",
    "                             epochs = 20,\n",
    "                             validation_data = valGen,\n",
    "                             validation_steps = 28,\n",
    "                             verbose = 1)"
   ]
  },
  {
   "cell_type": "code",
   "execution_count": 11,
   "metadata": {},
   "outputs": [],
   "source": [
    "model.save(\"m.hdf5\")"
   ]
  },
  {
   "cell_type": "code",
   "execution_count": 37,
   "metadata": {},
   "outputs": [
    {
     "data": {
      "text/plain": [
       "2"
      ]
     },
     "execution_count": 37,
     "metadata": {},
     "output_type": "execute_result"
    }
   ],
   "source": [
    "img_path = \"D:\\\\School\\\\Summer_2019\\\\Kaggle_BlindnessCompetition\\\\aptos2019-blindness-detection\\\\test_images\\\\0a2b5e1a0be8.png\"\n",
    "\n",
    "img = image.load_img(img_path, target_size=(150, 150))\n",
    "img_tensor = image.img_to_array(img)\n",
    "img_tensor = np.expand_dims(img_tensor, axis=0)\n",
    "img_tensor /= 255.\n",
    "\n",
    "pred = model.predict(img_tensor)\n",
    "np.where(pred == np.amax(pred[0]))[1][0]"
   ]
  },
  {
   "cell_type": "code",
   "execution_count": 117,
   "metadata": {},
   "outputs": [
    {
     "name": "stdout",
     "output_type": "stream",
     "text": [
      "Completed:0\n",
      "Completed:100\n",
      "Completed:200\n",
      "Completed:300\n",
      "Completed:400\n",
      "Completed:500\n",
      "Completed:600\n",
      "Completed:700\n",
      "Completed:800\n",
      "Completed:900\n",
      "Completed:1000\n",
      "Completed:1100\n",
      "Completed:1200\n",
      "Completed:1300\n",
      "Completed:1400\n",
      "Completed:1500\n",
      "Completed:1600\n",
      "Completed:1700\n",
      "Completed:1800\n",
      "Completed:1900\n"
     ]
    }
   ],
   "source": [
    "testImages = os.listdir(\"D:\\\\School\\\\Summer_2019\\\\Kaggle_BlindnessCompetition\\\\aptos2019-blindness-detection\\\\test_images\")\n",
    "testImagesNames = pd.read_csv(\"D:\\\\School\\\\Summer_2019\\\\Kaggle_BlindnessCompetition\\\\aptos2019-blindness-detection\\\\test.csv\")\n",
    "testImagesNames = np.array(testImagesNames)\n",
    "predArray = np.empty((len(testImagesNames),2),dtype='object')\n",
    "\n",
    "for i in range(len(testImagesNames)-1):\n",
    "    imgName = testImagesNames[i][0]\n",
    "    imgPath = \"D:\\\\School\\\\Summer_2019\\\\Kaggle_BlindnessCompetition\\\\aptos2019-blindness-detection\\\\test_images\\\\\" + imgName + \".png\"\n",
    "    img = image.load_img(imgPath,target_size=(150,150))\n",
    "    imgTensor = image.img_to_array(img)\n",
    "    imgTensor = np.expand_dims(imgTensor,axis=0)\n",
    "    imgTensor /= 255.\n",
    "    \n",
    "    pred = model.predict(imgTensor)\n",
    "    classification = np.where(pred == np.amax(pred[0]))[1][0]\n",
    "    \n",
    "    predArray[i][0] = imgName\n",
    "    predArray[i][1] = str(classification)\n",
    "    \n",
    "    if(i%100 == 0):\n",
    "        print(\"Completed:\" + str(i))"
   ]
  },
  {
   "cell_type": "code",
   "execution_count": 118,
   "metadata": {},
   "outputs": [
    {
     "data": {
      "text/plain": [
       "array([['0005cfc8afb6', '2'],\n",
       "       ['003f0afdcd15', '3'],\n",
       "       ['006efc72b638', '2'],\n",
       "       ...,\n",
       "       ['ff64897ac0d8', '2'],\n",
       "       ['ffa73465b705', '3'],\n",
       "       [None, None]], dtype=object)"
      ]
     },
     "execution_count": 118,
     "metadata": {},
     "output_type": "execute_result"
    }
   ],
   "source": [
    "predArray"
   ]
  },
  {
   "cell_type": "code",
   "execution_count": 122,
   "metadata": {},
   "outputs": [],
   "source": [
    "predArrayPD = pd.DataFrame(predArray)\n",
    "predArrayPD.to_csv(\"D:\\\\School\\\\Summer_2019\\\\Kaggle_BlindnessCompetition\\\\aptos2019-blindness-detection\\\\predictions.csv\")"
   ]
  }
 ],
 "metadata": {
  "kernelspec": {
   "display_name": "Python 3",
   "language": "python",
   "name": "python3"
  },
  "language_info": {
   "codemirror_mode": {
    "name": "ipython",
    "version": 3
   },
   "file_extension": ".py",
   "mimetype": "text/x-python",
   "name": "python",
   "nbconvert_exporter": "python",
   "pygments_lexer": "ipython3",
   "version": "3.6.7"
  }
 },
 "nbformat": 4,
 "nbformat_minor": 2
}
